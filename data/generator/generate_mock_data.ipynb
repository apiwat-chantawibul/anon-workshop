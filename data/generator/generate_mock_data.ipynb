{
 "cells": [
  {
   "cell_type": "code",
   "execution_count": null,
   "id": "a06377a5-c71b-4306-ba7e-6e5c246bea16",
   "metadata": {},
   "outputs": [],
   "source": [
    "from generate_mock_data import *"
   ]
  },
  {
   "cell_type": "code",
   "execution_count": null,
   "id": "7616f5e8-30af-4804-b4fb-a0d7fd25e745",
   "metadata": {},
   "outputs": [],
   "source": [
    "g = GenerateMockData()\n",
    "df = g.main()\n",
    "df"
   ]
  },
  {
   "cell_type": "code",
   "execution_count": null,
   "id": "afc62c66-54ca-4c08-a37f-60b9d6b42222",
   "metadata": {
    "editable": true,
    "slideshow": {
     "slide_type": ""
    },
    "tags": []
   },
   "outputs": [],
   "source": [
    "df.to_csv('../customers.csv')"
   ]
  }
 ],
 "metadata": {
  "kernelspec": {
   "display_name": "Python 3 (ipykernel)",
   "language": "python",
   "name": "python3"
  },
  "language_info": {
   "codemirror_mode": {
    "name": "ipython",
    "version": 3
   },
   "file_extension": ".py",
   "mimetype": "text/x-python",
   "name": "python",
   "nbconvert_exporter": "python",
   "pygments_lexer": "ipython3",
   "version": "3.12.10"
  }
 },
 "nbformat": 4,
 "nbformat_minor": 5
}
