{
 "cells": [
  {
   "cell_type": "code",
   "execution_count": null,
   "id": "581edcc0-0bbb-4e23-bd8e-33e3aebe009b",
   "metadata": {
    "editable": true,
    "slideshow": {
     "slide_type": ""
    },
    "tags": []
   },
   "outputs": [],
   "source": [
    "import pandas as pd\n",
    "from faker import Faker\n",
    "from faker.providers import passport"
   ]
  },
  {
   "cell_type": "code",
   "execution_count": null,
   "id": "3d3479d2-6dd7-45f9-8c7f-a786e57b1b15",
   "metadata": {
    "editable": true,
    "slideshow": {
     "slide_type": ""
    },
    "tags": []
   },
   "outputs": [],
   "source": [
    "faker = Faker('th')\n",
    "faker.add_provider(passport)"
   ]
  },
  {
   "cell_type": "code",
   "execution_count": null,
   "id": "3d84ee3f-18dc-4c70-bcb6-7b96aa398e9f",
   "metadata": {
    "editable": true,
    "slideshow": {
     "slide_type": ""
    },
    "tags": []
   },
   "outputs": [],
   "source": [
    "# When re-running cells in notebook multiple times,\n",
    "# one might need to reset Faker's memory of generated unique data\n",
    "faker.unique.clear()"
   ]
  },
  {
   "cell_type": "code",
   "execution_count": null,
   "id": "f137e30a-d2f9-4de2-bdd1-30367ec20320",
   "metadata": {
    "editable": true,
    "slideshow": {
     "slide_type": ""
    },
    "tags": []
   },
   "outputs": [],
   "source": [
    "record_count = 1000\n",
    "\n",
    "# Frist, populate DataFrame with fields that can be generated independently record-by-record\n",
    "df = pd.DataFrame(\n",
    "    {\n",
    "        # Direct identifier, unique\n",
    "        'passport': faker.unique.passport_number(),\n",
    "        # Direct identifier, not unique\n",
    "        'first_name': faker.first_name(),\n",
    "        'last_name': faker.last_name(),\n",
    "        # Indirect identifier\n",
    "        'job': faker.job(),\n",
    "        'date_of_birth': faker.date_of_birth(),\n",
    "        # Non-identifier, private, sensitive data\n",
    "        'comment': faker.text(),\n",
    "    }\n",
    "    for _ in range(record_count)\n",
    ")\n",
    "df"
   ]
  },
  {
   "cell_type": "code",
   "execution_count": null,
   "id": "4d4d9cc6-8815-478d-b732-938f7b30e81c",
   "metadata": {},
   "outputs": [],
   "source": [
    "# Indirect identifier\n",
    "unique_postcode_limit = 10\n",
    "df['postcode'] = pd.Series(\n",
    "    faker.unique.postcode()\n",
    "    for _ in range(unique_postcode_limit)\n",
    ").sample(\n",
    "    record_count,\n",
    "    replace = True,\n",
    "    ignore_index = True,\n",
    ")\n",
    "df.postcode.value_counts()"
   ]
  },
  {
   "cell_type": "code",
   "execution_count": null,
   "id": "c888e89d-c9db-436a-b174-f70bf7f7cdbc",
   "metadata": {},
   "outputs": [],
   "source": [
    "# Indirect identifier\n",
    "unique_job_limit = 30\n",
    "df['job'] = pd.Series(\n",
    "    faker.unique.job()\n",
    "    for _ in range(unique_job_limit)\n",
    ").sample(\n",
    "    record_count,\n",
    "    replace = True,\n",
    "    ignore_index = True,\n",
    ")\n",
    "df.job.value_counts()"
   ]
  },
  {
   "cell_type": "code",
   "execution_count": null,
   "id": "fbe0e888-5bc5-4440-ba37-604621acf202",
   "metadata": {
    "editable": true,
    "slideshow": {
     "slide_type": ""
    },
    "tags": []
   },
   "outputs": [],
   "source": [
    "df['gender'] = pd.Series([\n",
    "    'Male',\n",
    "    'Female',\n",
    "]).sample(\n",
    "    record_count,\n",
    "    replace = True,\n",
    "    ignore_index = True\n",
    ")\n",
    "df"
   ]
  },
  {
   "cell_type": "code",
   "execution_count": null,
   "id": "10b8fee1-22ce-4aa1-856e-ad99d1f19fc1",
   "metadata": {
    "editable": true,
    "slideshow": {
     "slide_type": ""
    },
    "tags": []
   },
   "outputs": [],
   "source": [
    "df.to_csv('source.csv', index = False)"
   ]
  }
 ],
 "metadata": {
  "kernelspec": {
   "display_name": "Python 3 (ipykernel)",
   "language": "python",
   "name": "python3"
  },
  "language_info": {
   "codemirror_mode": {
    "name": "ipython",
    "version": 3
   },
   "file_extension": ".py",
   "mimetype": "text/x-python",
   "name": "python",
   "nbconvert_exporter": "python",
   "pygments_lexer": "ipython3",
   "version": "3.12.10"
  }
 },
 "nbformat": 4,
 "nbformat_minor": 5
}
