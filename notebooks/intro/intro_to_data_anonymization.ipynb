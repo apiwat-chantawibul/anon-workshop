{
 "cells": [
  {
   "cell_type": "markdown",
   "id": "d07e17fe-585b-43a3-aa00-c78bc783cf32",
   "metadata": {
    "editable": true,
    "slideshow": {
     "slide_type": "slide"
    },
    "tags": []
   },
   "source": [
    "# Introduction to Data Anonymization\n",
    "\n",
    "![first page splash image](splash.png)"
   ]
  },
  {
   "cell_type": "markdown",
   "id": "8a32de26-c1ce-49f3-92f0-aa8d424c834b",
   "metadata": {
    "editable": true,
    "slideshow": {
     "slide_type": "slide"
    },
    "tags": []
   },
   "source": [
    "## What is Data Anonymization?\n",
    "\n",
    "**การทำข้อมูลนิรนาม** หรือ Data Anonymization คือ\n",
    "\n",
    "> การแปลง**ข้อมูลส่วนบุคคล** ให้ไม่สามารถระบุตัวตนบุคคลที่ถูกกล่าวถึงในข้อมูลได้ไม่ว่าจะ**ทางตรงหรือทางอ้อม** โดยคงความสามารถในการใช้งานด้านอื่นๆของชุดข้อมูลไว้"
   ]
  },
  {
   "cell_type": "markdown",
   "id": "a9a3f1c5-de0d-467b-88a5-7fb0987c49b5",
   "metadata": {
    "editable": true,
    "slideshow": {
     "slide_type": "subslide"
    },
    "tags": []
   },
   "source": [
    "### What is Personal Data?\n",
    "\n",
    "**ข้อมูลส่วนบุคคล** หมายความว่า\n",
    "\n",
    "> ข้อมูลเกี่ยวกับบุคคลซึ่งทำให้สามารถระบุตัวบุคคลนั้นได้ไม่ว่าทางตรงหรือทางอ้อม แต่ไม่รวมถึงข้อมูลของผู้ถึงแก่กรรมโดยเฉพาะ\n",
    "\n",
    "ตาม **มาตรา ๖** [พระราชบัญญัติคุ้มครองข้อมูลส่วนบุคคล (PDPA) พ.ศ. 2562](https://searchlaw.ocs.go.th/council-of-state/#/public/doc/RnVUTE4zOWxlNzExbDlEQjRwRCtrUT09)"
   ]
  },
  {
   "cell_type": "markdown",
   "id": "45505d47-429b-4564-9436-5f24d87d23f8",
   "metadata": {
    "editable": true,
    "slideshow": {
     "slide_type": "slide"
    },
    "tags": []
   },
   "source": [
    "## Why Anonymize data?\n",
    "\n",
    "- ปกป้องความเป็นส่วนตัว (Protecting Personal Privacy)\n",
    "- ทำตามกฎหมายคุ้มครองข้อมูลส่วนบุคคล (Compliance with Data Protection Laws)\n",
    "- ป้องกันการเลือกปฏิบัติ (Prevent Discrimination)"
   ]
  },
  {
   "cell_type": "markdown",
   "id": "4cbd7679-e347-4767-8391-e1562c27ca23",
   "metadata": {
    "editable": true,
    "slideshow": {
     "slide_type": "slide"
    },
    "tags": []
   },
   "source": [
    "### Protecting Personal Privacy\n",
    "\n",
    "**ความเป็นส่วนตัว**เป็นสิทธิมนุษยชน ตามสนธิสัญญา ICCPR ของ UN"
   ]
  },
  {
   "cell_type": "markdown",
   "id": "ea257334-d274-4914-80a3-7f5b3655fee5",
   "metadata": {
    "editable": true,
    "jp-MarkdownHeadingCollapsed": true,
    "slideshow": {
     "slide_type": "fragment"
    },
    "tags": []
   },
   "source": [
    "- บุคคลต้อง**กำหนดได้ด้วยตนเอง**ว่า ข้อมูลส่วนบุคคลของตนควรจะถูกใช้งาน\n",
    "  - เมื่อใด,\n",
    "  - อย่างไร,\n",
    "  - โดยใคร,\n",
    "  - และ เพื่อวัตถุประสงค์ใด"
   ]
  },
  {
   "cell_type": "markdown",
   "id": "e5ed39e6-ea4a-4f27-9ba1-76f8327556e0",
   "metadata": {
    "editable": true,
    "slideshow": {
     "slide_type": "fragment"
    },
    "tags": []
   },
   "source": [
    "- การคุ้มครองความเป็นส่วนตัวช่วย**รักษา**\n",
    "  - ศักดิ์ศรีความเป็นมนุษย์,\n",
    "  - ความปลอดภัย,\n",
    "  - และ การกำหนดชีวิตตนเองอย่างอิสระ"
   ]
  },
  {
   "cell_type": "markdown",
   "id": "fe7ae86a-7d74-46b0-bc51-c15d68c2bc05",
   "metadata": {
    "editable": true,
    "slideshow": {
     "slide_type": "fragment"
    },
    "tags": []
   },
   "source": [
    "- เป็นสิทธิพื้นฐานที่ช่วย**สนับสนุนสิทธิมนุษยชนอื่นๆ** เช่น\n",
    "  - เสรีภาพในการแสดงความคิดเห็น\n",
    "  - เสรีภาพทางความคิด มโนธรรมและศาสนา\n",
    "  - เสรีภาพในการชุมนุมและการรวมกลุ่ม\n",
    "  - และ สิทธิในการไม่ถูกเลือกปฏิบัติ\n",
    "  - ด้วยเหตุนี้ ความเป็นส่วนตัวจึงเป็นรากฐานสำคัญของ สังคมประชาธิปไตย\n",
    "\n",
    "จาก [The importance of privacy](https://ovic.vic.gov.au/privacy/resources-for-organisations/privacy-officer-toolkit/the-importance-of-privacy/), Office of the Victorian Information Commissioner, Australia"
   ]
  },
  {
   "cell_type": "markdown",
   "id": "fbbd08df-97c7-464b-932d-8afeb3bd74b7",
   "metadata": {
    "editable": true,
    "slideshow": {
     "slide_type": "slide"
    },
    "tags": []
   },
   "source": [
    "### Compliance with Data Protection Laws\n",
    "\n",
    "- กฎหมายคุ้มครองข้อมูลส่วนบุคคล ควบคุมเฉพาะข้อมูลส่วนบุคคลเท่านั้น\n",
    "- ข้อมูลนิรนามอยู่**นอก**การควบคุมของกฎหมายดังกล่าว"
   ]
  },
  {
   "cell_type": "markdown",
   "id": "c943b272-0129-49aa-baa6-1a614d308296",
   "metadata": {
    "editable": true,
    "slideshow": {
     "slide_type": "fragment"
    },
    "tags": []
   },
   "source": [
    "#### Compliance Pitfall\n",
    "\n",
    "- ⚠️ **ขั้นตอนการทำข้อมูลนิรนามเอง** ยังอยู่ภายใต้การควบคุมของกฎหมายคุ้มครองข้อมูลส่วนบุคคล ถึงแม้ว่าข้อมูลที่ทำนิรนามเสร็จแล้วจะไม่ถูกควบคุมตามกฎหมายนี้ก็ตาม\n",
    "- ⚠️ ข้อมูลนิรนามอาจยังอยู่ใต้ข้อบังคับของ**กฎหมายอื่น**อยู่"
   ]
  },
  {
   "cell_type": "markdown",
   "id": "e31aac71-27f8-41fd-8f68-9d554819f7c2",
   "metadata": {
    "editable": true,
    "slideshow": {
     "slide_type": "fragment"
    },
    "tags": []
   },
   "source": [
    "#### Thai law:\n",
    "\n",
    "- [พระราชบัญญัติคุ้มครองข้อมูลส่วนบุคคล พ.ศ. 2562 (PDPA)](https://searchlaw.ocs.go.th/council-of-state/#/public/doc/RnVUTE4zOWxlNzExbDlEQjRwRCtrUT09), สํานักงานคณะกรรมการกฤษฎีกา\n",
    "\n",
    "#### EU law:\n",
    "\n",
    "- [General Data Protection Regulation (GDPR)](https://gdpr.eu/tag/gdpr/), GDPR.eu"
   ]
  },
  {
   "cell_type": "markdown",
   "id": "acd7eeaa-2779-40a5-a12f-c186bd9f6f9d",
   "metadata": {
    "editable": true,
    "slideshow": {
     "slide_type": "slide"
    },
    "tags": []
   },
   "source": [
    "### Prevent Discrimination\n",
    "\n",
    "- บังคับให้ระบบตัดสินใจ ไม่ว่าจะโดยมนุษย์หรือคอมพิวเตอร์ ต้องอิงจากคุณลักษณะที่เกี่ยวข้องเท่านั้น และไม่สามารถเลือกปฏิบัติต่อบุคคลโดยอ้างอิงตัวบุคคลได้\n",
    "- สามารถ**พิสูจน์**ความโปร่งใส และความไม่ลำเอียงของการตัดสินใจได้"
   ]
  },
  {
   "cell_type": "markdown",
   "id": "2af50447-2d49-436e-8ae6-79657d7cd6f8",
   "metadata": {
    "editable": true,
    "slideshow": {
     "slide_type": "slide"
    },
    "tags": []
   },
   "source": [
    "# Next topics:\n",
    "\n",
    "- [Examples of Anonymized Datasets](../examples/examples.ipynb)\n",
    "- [ฺBasic Anonymization Techniques](../techniques/basic.ipynb)\n",
    "  - การวัดระดับความนิรนามโดย [K-anonymity](../k_anonymity/k_anonymity.ipynb), L-diversity, และ T-closeness\n",
    "- [Differential Privacy](../diff/differential_privacy.ipynb)"
   ]
  }
 ],
 "metadata": {
  "kernelspec": {
   "display_name": "Python 3 (ipykernel)",
   "language": "python",
   "name": "python3"
  },
  "language_info": {
   "codemirror_mode": {
    "name": "ipython",
    "version": 3
   },
   "file_extension": ".py",
   "mimetype": "text/x-python",
   "name": "python",
   "nbconvert_exporter": "python",
   "pygments_lexer": "ipython3",
   "version": "3.12.10"
  }
 },
 "nbformat": 4,
 "nbformat_minor": 5
}
