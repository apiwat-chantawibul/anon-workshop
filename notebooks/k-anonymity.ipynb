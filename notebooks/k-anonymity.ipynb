{
 "cells": [
  {
   "cell_type": "markdown",
   "id": "5120d561-c2ce-456b-b8fc-d4d7093466cb",
   "metadata": {
    "editable": true,
    "slideshow": {
     "slide_type": "slide"
    },
    "tags": []
   },
   "source": [
    "# $K$-anonymity\n",
    "\n",
    "- Is a basic measurement of anonymity of dataset.\n",
    "- เป็นการวัดค่า \"ความไม่สามารถระบุตัวตน\" ของชุดข้อมูล แบบพื้นๆง่ายๆ"
   ]
  },
  {
   "cell_type": "markdown",
   "id": "dc1d6555-4d45-46a1-bcaf-0ba679f6b113",
   "metadata": {
    "editable": true,
    "slideshow": {
     "slide_type": "subslide"
    },
    "tags": []
   },
   "source": [
    "## Main idea\n",
    "\n",
    "โดยคร่าวๆ ชุดข้อมูลที่มี $K$-anonymity ระดับ $K = 5$ หมายความว่า\n",
    "\n",
    "> เมื่อเลือกรายการของบุคคลใดก็ตามในชุดข้อมูลนี้ เพื่อระบุตัวตนโดยทำการเปรียบเทียบลักษณะบุคคลกับข้อมูลสาธารณะ จะไม่สามารถระบุตัวตนได้เนื่องจากมี**อย่างน้อย** $K = 5$ รายการในชุดข้อมูลที่มีข้อมูลสาธารณะตรงกัน"
   ]
  },
  {
   "cell_type": "markdown",
   "id": "99f6208f-90fb-43c9-84e9-e43340731520",
   "metadata": {
    "editable": true,
    "slideshow": {
     "slide_type": "fragment"
    },
    "tags": []
   },
   "source": [
    "กล่าวในเชิงปฏิบัติ คือ\n",
    "\n",
    "> เมื่อจัดกลุ่มข้อมูลตามลักษณะที่อาจใช้ระบุตัวตนได้ ทุกกลุ่มต้องมีขนาด $K = 5$ รายการขึ้นไป"
   ]
  },
  {
   "cell_type": "markdown",
   "id": "f0f8d7da-f7d0-4fde-9a0f-73e455fec3fe",
   "metadata": {
    "editable": true,
    "slideshow": {
     "slide_type": "slide"
    },
    "tags": []
   },
   "source": [
    "## The Parameter $K$\n",
    "\n",
    "- $K$ เป็นตัวแปรที่ใช้บอกระดับการรับประกัน anonymity\n",
    "- ถ้าค่า $K$ มาก ก็ยิ่งยากต่อการระบุตัวตน เพราะมีจำนวณรายการที่มีลักษณะบุคคลเหมือนกันเป็นจำนวณมาก"
   ]
  },
  {
   "cell_type": "markdown",
   "id": "2a86dbf3-1d96-441b-a0f3-262579d528a8",
   "metadata": {
    "editable": true,
    "slideshow": {
     "slide_type": "slide"
    },
    "tags": []
   },
   "source": [
    "## Prvicy-Utility Tradeoff\n",
    "\n",
    "*ค่า $K=1$ หมายความว่า*\n",
    "\n",
    "- มี**บาง**รายการสามารถระบุตัวตนได้ชัดเจน 100% ว่าเป็นของใคร\n",
    "- Low privacy\n",
    "- เป็นค่า $K$ ที่**น้อยที่สุด**ที่เป็นไปได้\n",
    "\n",
    "*ค่า $K$ เท่ากับจำนวนรายการทั้งหมดในชุดข้อมูล หมายความว่า*\n",
    "\n",
    "- ทุกรายการอยู่ในกลุ่มเดียวกัน มีลักษณะข้อมูลส่วนบุคคลเหมือนกันหมด\n",
    "- Low utility\n",
    "- เป็นค่า $K$ ที่**มากที่สุด**ที่เป็นไปได้"
   ]
  },
  {
   "cell_type": "markdown",
   "id": "9b5913f4-5116-4696-83c7-86a4a83043b6",
   "metadata": {
    "editable": true,
    "jp-MarkdownHeadingCollapsed": true,
    "slideshow": {
     "slide_type": "slide"
    },
    "tags": []
   },
   "source": [
    "### Anonymization\n",
    "\n",
    "ข้อมูลตั้งต้นของเราอาจจะมีค่า $K$-anonymity น้อย แต่เราสามารถที่จะดัดแปลงข้อมูลได้เพื่อให้ค่า $K$-anonymity เพิ่มขึ้นได้ แลกกับรายละเอียด, ความแม่นยำของข้อมูลที่ลดลง"
   ]
  },
  {
   "cell_type": "markdown",
   "id": "2252c8ea-fea3-4de4-98be-0ca24f72a593",
   "metadata": {
    "editable": true,
    "slideshow": {
     "slide_type": "slide"
    },
    "tags": []
   },
   "source": [
    "### Picking suitable $K$\n",
    "\n",
    "[Singaporian PDPC](https://www.pdpc.gov.sg/-/media/files/pdpc/pdf-files/advisory-guidelines/guide-to-basic-anonymisation-(updated-24-july-2024).pdf) แนะนำว่า:\n",
    "\n",
    "- $K \\ge 5$ for sharing data externally\n",
    "- $K \\ge 3$ for sharing data internally or long term data retention."
   ]
  },
  {
   "cell_type": "markdown",
   "id": "e9e91bfc-6f85-45ea-96af-161c19d00399",
   "metadata": {
    "editable": true,
    "slideshow": {
     "slide_type": "slide"
    },
    "tags": []
   },
   "source": [
    "แต่ Have I been pwd ใช้ K >= 500"
   ]
  },
  {
   "cell_type": "markdown",
   "id": "a18aca69-a97b-4d34-a103-a1b8135cfe38",
   "metadata": {
    "editable": true,
    "slideshow": {
     "slide_type": "slide"
    },
    "tags": []
   },
   "source": [
    "## Data model\n",
    "\n",
    "Data is always considered as a table.\n",
    "\n",
    "- direct identifier\n",
    "- indirect identifier\n",
    "- private / sensitive / target attributes"
   ]
  },
  {
   "cell_type": "markdown",
   "id": "1bb710e1-3a86-4755-b8b4-8acb40d3c124",
   "metadata": {},
   "source": [
    "## Re-identification risk\n",
    "\n",
    "สามประเภทที่ GDPR พิจารณา\n",
    "\n",
    "- **Singling out**: If only statistics are output and the rules applied to the set are well\n",
    "chosen, it should not be possible to use the answers to single out an individual.\n",
    "- **Linkability**: By using multiple requests it might be possible to link the entries relating\n",
    "to a specific individual between two answers.\n",
    "- **Inference**: It is possible to infer information about individuals or groups by using\n",
    "multiple requests."
   ]
  },
  {
   "cell_type": "markdown",
   "id": "6bfd47db-9a2c-4fbc-b6a9-9d28066e28e3",
   "metadata": {},
   "source": [
    "- Singling out ถูกป้องกันโดย K-anonimity แล้ว\n",
    "- Inference ถูกป้องกันโดย\n",
    "  - l-diversity: target attribute ต้องเป็นความหลากหลายในกลุ่มเกิน l\n",
    "  - t-closeness: target attribute ต้องกระจายตัวในกลุ่มที่สร้างขึ้นใกล้เคียง กรณีไม่จัดกลุ่ม"
   ]
  }
 ],
 "metadata": {
  "kernelspec": {
   "display_name": "Python 3 (ipykernel)",
   "language": "python",
   "name": "python3"
  },
  "language_info": {
   "codemirror_mode": {
    "name": "ipython",
    "version": 3
   },
   "file_extension": ".py",
   "mimetype": "text/x-python",
   "name": "python",
   "nbconvert_exporter": "python",
   "pygments_lexer": "ipython3",
   "version": "3.12.10"
  }
 },
 "nbformat": 4,
 "nbformat_minor": 5
}
